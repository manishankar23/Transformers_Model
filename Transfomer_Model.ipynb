{
  "nbformat": 4,
  "nbformat_minor": 0,
  "metadata": {
    "colab": {
      "provenance": [],
      "gpuType": "T4",
      "authorship_tag": "ABX9TyOvqemu3J6TIo7ypCubkuDJ",
      "include_colab_link": true
    },
    "kernelspec": {
      "name": "python3",
      "display_name": "Python 3"
    },
    "language_info": {
      "name": "python"
    },
    "accelerator": "GPU"
  },
  "cells": [
    {
      "cell_type": "markdown",
      "metadata": {
        "id": "view-in-github",
        "colab_type": "text"
      },
      "source": [
        "<a href=\"https://colab.research.google.com/github/manishankar23/Transformers_Model/blob/main/Transfomer_Model.ipynb\" target=\"_parent\"><img src=\"https://colab.research.google.com/assets/colab-badge.svg\" alt=\"Open In Colab\"/></a>"
      ]
    },
    {
      "cell_type": "code",
      "execution_count": 1,
      "metadata": {
        "colab": {
          "base_uri": "https://localhost:8080/"
        },
        "id": "D1_96MHuMG22",
        "outputId": "9b070548-dd5d-42cc-917c-a7db0fd7f19d"
      },
      "outputs": [
        {
          "output_type": "stream",
          "name": "stdout",
          "text": [
            "Requirement already satisfied: torch in /usr/local/lib/python3.12/dist-packages (2.8.0+cu126)\n",
            "Requirement already satisfied: filelock in /usr/local/lib/python3.12/dist-packages (from torch) (3.19.1)\n",
            "Requirement already satisfied: typing-extensions>=4.10.0 in /usr/local/lib/python3.12/dist-packages (from torch) (4.14.1)\n",
            "Requirement already satisfied: setuptools in /usr/local/lib/python3.12/dist-packages (from torch) (75.2.0)\n",
            "Requirement already satisfied: sympy>=1.13.3 in /usr/local/lib/python3.12/dist-packages (from torch) (1.13.3)\n",
            "Requirement already satisfied: networkx in /usr/local/lib/python3.12/dist-packages (from torch) (3.5)\n",
            "Requirement already satisfied: jinja2 in /usr/local/lib/python3.12/dist-packages (from torch) (3.1.6)\n",
            "Requirement already satisfied: fsspec in /usr/local/lib/python3.12/dist-packages (from torch) (2025.3.0)\n",
            "Requirement already satisfied: nvidia-cuda-nvrtc-cu12==12.6.77 in /usr/local/lib/python3.12/dist-packages (from torch) (12.6.77)\n",
            "Requirement already satisfied: nvidia-cuda-runtime-cu12==12.6.77 in /usr/local/lib/python3.12/dist-packages (from torch) (12.6.77)\n",
            "Requirement already satisfied: nvidia-cuda-cupti-cu12==12.6.80 in /usr/local/lib/python3.12/dist-packages (from torch) (12.6.80)\n",
            "Requirement already satisfied: nvidia-cudnn-cu12==9.10.2.21 in /usr/local/lib/python3.12/dist-packages (from torch) (9.10.2.21)\n",
            "Requirement already satisfied: nvidia-cublas-cu12==12.6.4.1 in /usr/local/lib/python3.12/dist-packages (from torch) (12.6.4.1)\n",
            "Requirement already satisfied: nvidia-cufft-cu12==11.3.0.4 in /usr/local/lib/python3.12/dist-packages (from torch) (11.3.0.4)\n",
            "Requirement already satisfied: nvidia-curand-cu12==10.3.7.77 in /usr/local/lib/python3.12/dist-packages (from torch) (10.3.7.77)\n",
            "Requirement already satisfied: nvidia-cusolver-cu12==11.7.1.2 in /usr/local/lib/python3.12/dist-packages (from torch) (11.7.1.2)\n",
            "Requirement already satisfied: nvidia-cusparse-cu12==12.5.4.2 in /usr/local/lib/python3.12/dist-packages (from torch) (12.5.4.2)\n",
            "Requirement already satisfied: nvidia-cusparselt-cu12==0.7.1 in /usr/local/lib/python3.12/dist-packages (from torch) (0.7.1)\n",
            "Requirement already satisfied: nvidia-nccl-cu12==2.27.3 in /usr/local/lib/python3.12/dist-packages (from torch) (2.27.3)\n",
            "Requirement already satisfied: nvidia-nvtx-cu12==12.6.77 in /usr/local/lib/python3.12/dist-packages (from torch) (12.6.77)\n",
            "Requirement already satisfied: nvidia-nvjitlink-cu12==12.6.85 in /usr/local/lib/python3.12/dist-packages (from torch) (12.6.85)\n",
            "Requirement already satisfied: nvidia-cufile-cu12==1.11.1.6 in /usr/local/lib/python3.12/dist-packages (from torch) (1.11.1.6)\n",
            "Requirement already satisfied: triton==3.4.0 in /usr/local/lib/python3.12/dist-packages (from torch) (3.4.0)\n",
            "Requirement already satisfied: mpmath<1.4,>=1.1.0 in /usr/local/lib/python3.12/dist-packages (from sympy>=1.13.3->torch) (1.3.0)\n",
            "Requirement already satisfied: MarkupSafe>=2.0 in /usr/local/lib/python3.12/dist-packages (from jinja2->torch) (3.0.2)\n"
          ]
        }
      ],
      "source": [
        "!pip install torch"
      ]
    },
    {
      "cell_type": "code",
      "source": [
        "import torch\n",
        "import torch.nn as nn\n",
        "import torch.optim as optim\n",
        "import torch.utils.data as data\n",
        "import math\n",
        "import copy\n",
        ""
      ],
      "metadata": {
        "id": "lEDshrcXMSu0"
      },
      "execution_count": 2,
      "outputs": []
    },
    {
      "cell_type": "code",
      "source": [],
      "metadata": {
        "id": "PyKrTUt9NJCl"
      },
      "execution_count": null,
      "outputs": []
    },
    {
      "cell_type": "code",
      "source": [
        "class MuliHeadAttention(nn.Module):\n",
        "  def __init__(self, d_model, num_heads):\n",
        "    super(MuliHeadAttention, self).__init__()\n",
        "    assert d_model % num_heads == 0, \"d_model must be divisible by num_heads\"\n",
        "    self.d_model=d_model\n",
        "    self.num_heads=num_heads\n",
        "    self.d_k=d_model//num_heads\n",
        "\n",
        "    self.W_q=nn.Linear(d_model, d_model)\n",
        "    self.W_k=nn.Linear(d_model, d_model)\n",
        "    self.W_v=nn.Linear(d_model, d_model)\n",
        "    self.W_o=nn.Linear(d_model, d_model)\n",
        "\n",
        "  def scaled_dot_product_attention(self,Q, K, V, mask=None):\n",
        "    attn_scores=torch.matmul(Q, K.transpose(-2, -1))/math.sqrt(self.d_k)\n",
        "    if mask is not None:\n",
        "      attn_scores=attn_scores.masked_fill(mask==0, -1e9)\n",
        "\n",
        "    attn_probs=torch.softmax(attn_scores, dim=-1)\n",
        "    output=torch.matmul(attn_probs, V)\n",
        "    return output\n",
        "\n",
        "  def split_head(self,x):\n",
        "    batch_size, seq_length, d_model=x.size()\n",
        "    x=x.view(batch_size, seq_length, self.num_heads, self.d_k).transpose(1,2)\n",
        "    return x\n",
        "\n",
        "  def combine_head(self,x):\n",
        "    batch_size, _, seq_length, d_k=x.size()\n",
        "    return x.transpose(1,2).contiguous().view(batch_size, seq_length, self.d_model)\n",
        "\n",
        "  def forward(self, Q, K, V, mask=None):\n",
        "    Q=self.split_head(self.W_q(Q))\n",
        "    K=self.split_head(self.W_k(K))\n",
        "    V=self.split_head(self.W_v(V))\n",
        "\n",
        "    attn_output=self.scaled_dot_product_attention(Q, K, V, mask)\n",
        "\n",
        "    output=self.W_o(self.combine_head(attn_output))\n",
        "    return output\n",
        ""
      ],
      "metadata": {
        "id": "DVPe2kyHMVwc"
      },
      "execution_count": 3,
      "outputs": []
    },
    {
      "cell_type": "code",
      "source": [
        "class PositionWiseFeedForward(nn.Module):\n",
        "  def __init__(self, d_model, d_ff):\n",
        "    super(PositionWiseFeedForward, self).__init__()\n",
        "    self.fc1=nn.Linear(d_model, d_ff)\n",
        "    self.fc2=nn.Linear(d_ff, d_model)\n",
        "    self.relu=nn.ReLU()\n",
        "\n",
        "  def forward(self, x):\n",
        "    return self.fc2(self.relu(self.fc1(x)))\n",
        "\n"
      ],
      "metadata": {
        "id": "d1NmzoEAMWjE"
      },
      "execution_count": 4,
      "outputs": []
    },
    {
      "cell_type": "code",
      "source": [
        "class PositionalEncoding(nn.Module):\n",
        "  def __init__(self, d_model, max_seq_length):\n",
        "    super(PositionalEncoding, self).__init__()\n",
        "    pe=torch.zeros(max_seq_length, d_model)\n",
        "    position = torch.arange(0, max_seq_length, dtype=torch.float).unsqueeze(1)\n",
        "    div_term=torch.exp(torch.arange(0, d_model, 2).float()*-(math.log(10000.0)/d_model))\n",
        "    pe[:,0::2]=torch.sin(position*div_term)\n",
        "    pe[:,1::2]=torch.cos(position*div_term)\n",
        "    self.register_buffer('pe', pe.unsqueeze(0))\n",
        "\n",
        "  def forward(self, x):\n",
        "    return x + self.pe[:,:x.size(1)]"
      ],
      "metadata": {
        "id": "Grbrure9Mc-U"
      },
      "execution_count": 5,
      "outputs": []
    },
    {
      "cell_type": "code",
      "source": [
        "\n",
        "class EncoderLayer(nn.Module):\n",
        "  def __init__(self, d_model, num_heads, d_ff, dropout):\n",
        "    super(EncoderLayer, self).__init__()\n",
        "    self.self_attn=MuliHeadAttention(d_model, num_heads)\n",
        "    self.feed_forward=PositionWiseFeedForward(d_model, d_ff)\n",
        "    self.norm1=nn.LayerNorm(d_model)\n",
        "    self.norm2=nn.LayerNorm(d_model)\n",
        "    self.dropout=nn.Dropout(dropout)\n",
        "\n",
        "  def forward (self, x, mask):\n",
        "    attn_output=self.self_attn(x, x, x, mask)\n",
        "    x=self.norm1(x+self.dropout(attn_output))\n",
        "    ff_output=self.feed_forward(x)\n",
        "    x=self.norm2(x+self.dropout(ff_output))\n",
        "    return x"
      ],
      "metadata": {
        "id": "eYO84KJ9Mez0"
      },
      "execution_count": 6,
      "outputs": []
    },
    {
      "cell_type": "code",
      "source": [
        "class DecoderLayer(nn.Module):\n",
        "  def __init__(self, d_model, num_heads, d_ff, dropout):\n",
        "    super(DecoderLayer, self).__init__()\n",
        "\n",
        "    self.self_attn=MuliHeadAttention(d_model, num_heads)\n",
        "    self.cross_attn=MuliHeadAttention(d_model, num_heads)\n",
        "    self.feed_forward=PositionWiseFeedForward(d_model, d_ff)\n",
        "    self.norm1=nn.LayerNorm(d_model)\n",
        "    self.norm2=nn.LayerNorm(d_model)\n",
        "    self.norm3=nn.LayerNorm(d_model)\n",
        "    self.dropout=nn.Dropout(dropout)\n",
        "\n",
        "  def forward(self, x, enc_output, src_mask, tgt_mask):\n",
        "    attn_output=self.self_attn(x, x, x, tgt_mask)\n",
        "    x=self.norm1(x+self.dropout(attn_output))\n",
        "    attn_output=self.cross_attn(x, enc_output, enc_output, src_mask)\n",
        "    x=self.norm2(x+self.dropout(attn_output))\n",
        "    ff_output=self.feed_forward(x)\n",
        "    x=self.norm3(x+self.dropout(ff_output))\n",
        "    return x"
      ],
      "metadata": {
        "id": "zjksaI_FMhjk"
      },
      "execution_count": 7,
      "outputs": []
    },
    {
      "cell_type": "code",
      "source": [
        "class Transformer(nn.Module):\n",
        "  def __init__(self, src_vocab_size, tgt_vocab_size, d_model, num_heads, num_layers, d_ff, max_seq_length, dropout):\n",
        "    super(Transformer, self).__init__()\n",
        "\n",
        "    self.encoder_embedding = nn.Embedding(src_vocab_size, d_model)\n",
        "    self.decoder_embedding = nn.Embedding(tgt_vocab_size, d_model)\n",
        "\n",
        "    self.positional_encoding = PositionalEncoding(d_model, max_seq_length)\n",
        "    self.encoder_layers=nn.ModuleList([EncoderLayer(d_model, num_heads, d_ff, dropout) for _ in range(num_layers)])\n",
        "    self.decoder_layers=nn.ModuleList([DecoderLayer(d_model, num_heads, d_ff, dropout) for _ in range(num_layers)])\n",
        "\n",
        "    self.fc=nn.Linear(d_model, tgt_vocab_size)\n",
        "    self.droupout=nn.Dropout(dropout)\n",
        "\n",
        "  def generate_mask(self,src,tgt):\n",
        "    src_mask=(src!=0).unsqueeze(1).unsqueeze(2)\n",
        "    tgt_mask=(tgt!=0).unsqueeze(1).unsqueeze(3)\n",
        "    seq_length=tgt.size(-1)\n",
        "    nopeak_mask=(1 - torch.triu(torch.ones(seq_length, seq_length),diagonal=1)).bool()\n",
        "    tgt_mask=tgt_mask & nopeak_mask.unsqueeze(0).unsqueeze(0)\n",
        "    return src_mask, tgt_mask\n",
        "\n",
        "  def forward(self, src, tgt):\n",
        "    src_mask, tgt_mask=self.generate_mask(src,tgt)\n",
        "    src_embedded=self.droupout(self.positional_encoding(self.encoder_embedding(src)))\n",
        "    tgt_embedded=self.droupout(self.positional_encoding(self.decoder_embedding(tgt)))\n",
        "    enc_output=src_embedded\n",
        "    for enc_layer in self.encoder_layers:\n",
        "      enc_output=enc_layer(enc_output, src_mask)\n",
        "    dec_output = tgt_embedded  # Initialize dec_output\n",
        "    for dec_layer in self.decoder_layers:\n",
        "      dec_output=dec_layer(dec_output, enc_output, src_mask, tgt_mask)\n",
        "    output=self.fc(dec_output)\n",
        "    return output\n",
        ""
      ],
      "metadata": {
        "id": "pvLIFj-JMiH8"
      },
      "execution_count": 8,
      "outputs": []
    },
    {
      "cell_type": "code",
      "source": [
        "src_vocab_size = 5000\n",
        "tgt_vocab_size = 5000\n",
        "d_model = 512\n",
        "num_heads = 8\n",
        "num_layers = 6\n",
        "d_ff = 2048\n",
        "max_seq_length = 100\n",
        "dropout = 0.1\n",
        "\n",
        "transformer = Transformer(src_vocab_size, tgt_vocab_size, d_model, num_heads, num_layers, d_ff, max_seq_length, dropout)"
      ],
      "metadata": {
        "id": "kgVoSX16Ml68"
      },
      "execution_count": 9,
      "outputs": []
    },
    {
      "cell_type": "code",
      "source": [
        "\n",
        "src_data = torch.randint(1, src_vocab_size, (64, max_seq_length))  # (batch_size, seq_length)\n",
        "tgt_data = torch.randint(1, tgt_vocab_size, (64, max_seq_length))  # (batch_size, seq_length)\n",
        "\n",
        "criterion = nn.CrossEntropyLoss(ignore_index=0)\n",
        "optimizer = optim.Adam(transformer.parameters(), lr=0.0001, betas=(0.9, 0.98), eps=1e-9)\n",
        "\n",
        "transformer.train()\n",
        "\n",
        "for epoch in range(20):\n",
        "    optimizer.zero_grad()\n",
        "    output = transformer(src_data, tgt_data[:, :-1])\n",
        "    loss = criterion(output.contiguous().view(-1, tgt_vocab_size), tgt_data[:, 1:].contiguous().view(-1))\n",
        "    loss.backward()\n",
        "    optimizer.step()\n",
        "    print(f\"Epoch: {epoch+1}, Loss: {loss.item()}\")\n",
        "\n",
        "    transformer.eval()\n",
        "\n",
        "# Generate random sample validation data\n",
        "val_src_data = torch.randint(1, src_vocab_size, (64, max_seq_length))  # (batch_size, seq_length)\n",
        "val_tgt_data = torch.randint(1, tgt_vocab_size, (64, max_seq_length))  # (batch_size, seq_length)\n",
        "\n",
        "with torch.no_grad():\n",
        "\n",
        "    val_output = transformer(val_src_data, val_tgt_data[:, :-1])\n",
        "    val_loss = criterion(val_output.contiguous().view(-1, tgt_vocab_size), val_tgt_data[:, 1:].contiguous().view(-1))\n",
        "    print(f\"Validation Loss: {val_loss.item()}\")\n",
        ""
      ],
      "metadata": {
        "colab": {
          "base_uri": "https://localhost:8080/"
        },
        "id": "6Z6AQ_LqMnl0",
        "outputId": "6904a307-b163-4052-f050-17fed5d5f6a5"
      },
      "execution_count": 10,
      "outputs": [
        {
          "output_type": "stream",
          "name": "stdout",
          "text": [
            "Epoch: 1, Loss: 8.690166473388672\n",
            "Epoch: 2, Loss: 8.545184135437012\n",
            "Epoch: 3, Loss: 8.465479850769043\n",
            "Epoch: 4, Loss: 8.39908504486084\n",
            "Epoch: 5, Loss: 8.321629524230957\n",
            "Epoch: 6, Loss: 8.221704483032227\n",
            "Epoch: 7, Loss: 8.114349365234375\n",
            "Epoch: 8, Loss: 8.01082706451416\n",
            "Epoch: 9, Loss: 7.9050164222717285\n",
            "Epoch: 10, Loss: 7.8018107414245605\n",
            "Epoch: 11, Loss: 7.701848983764648\n",
            "Epoch: 12, Loss: 7.599315166473389\n",
            "Epoch: 13, Loss: 7.491184234619141\n",
            "Epoch: 14, Loss: 7.3853044509887695\n",
            "Epoch: 15, Loss: 7.279462814331055\n",
            "Epoch: 16, Loss: 7.179128170013428\n",
            "Epoch: 17, Loss: 7.0812907218933105\n",
            "Epoch: 18, Loss: 6.983625888824463\n",
            "Epoch: 19, Loss: 6.890336036682129\n",
            "Epoch: 20, Loss: 6.796113014221191\n",
            "Validation Loss: 8.688786506652832\n"
          ]
        }
      ]
    }
  ]
}